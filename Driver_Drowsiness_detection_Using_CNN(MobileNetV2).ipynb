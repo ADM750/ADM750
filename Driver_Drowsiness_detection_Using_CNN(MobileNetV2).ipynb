{
  "metadata": {
    "kernelspec": {
      "language": "python",
      "display_name": "Python 3",
      "name": "python3"
    },
    "language_info": {
      "name": "python",
      "version": "3.10.13",
      "mimetype": "text/x-python",
      "codemirror_mode": {
        "name": "ipython",
        "version": 3
      },
      "pygments_lexer": "ipython3",
      "nbconvert_exporter": "python",
      "file_extension": ".py"
    },
    "kaggle": {
      "accelerator": "none",
      "dataSources": [
        {
          "sourceId": 3667213,
          "sourceType": "datasetVersion",
          "datasetId": 2195166
        }
      ],
      "dockerImageVersionId": 30673,
      "isInternetEnabled": true,
      "language": "python",
      "sourceType": "notebook",
      "isGpuEnabled": false
    },
    "colab": {
      "name": "Driver Drowsiness detection Using CNN(MobileNetV2)",
      "provenance": [],
      "include_colab_link": true
    }
  },
  "nbformat_minor": 0,
  "nbformat": 4,
  "cells": [
    {
      "cell_type": "markdown",
      "metadata": {
        "id": "view-in-github",
        "colab_type": "text"
      },
      "source": [
        "<a href=\"https://colab.research.google.com/github/ADM750/ADM750/blob/main/Driver_Drowsiness_detection_Using_CNN(MobileNetV2).ipynb\" target=\"_parent\"><img src=\"https://colab.research.google.com/assets/colab-badge.svg\" alt=\"Open In Colab\"/></a>"
      ]
    },
    {
      "source": [
        "# IMPORTANT: RUN THIS CELL IN ORDER TO IMPORT YOUR KAGGLE DATA SOURCES,\n",
        "# THEN FEEL FREE TO DELETE THIS CELL.\n",
        "# NOTE: THIS NOTEBOOK ENVIRONMENT DIFFERS FROM KAGGLE'S PYTHON\n",
        "# ENVIRONMENT SO THERE MAY BE MISSING LIBRARIES USED BY YOUR\n",
        "# NOTEBOOK.\n",
        "import kagglehub\n",
        "ismailnasri20_driver_drowsiness_dataset_ddd_path = kagglehub.dataset_download('ismailnasri20/driver-drowsiness-dataset-ddd')\n",
        "\n",
        "print('Data source import complete.')\n"
      ],
      "metadata": {
        "id": "IBoAUe6CLIdg"
      },
      "cell_type": "code",
      "outputs": [],
      "execution_count": null
    },
    {
      "cell_type": "markdown",
      "source": [
        "<h2 style=\"text-align: center;\">Hello! Welcome to my notebook💗"
      ],
      "metadata": {
        "_uuid": "8f2839f25d086af736a60e9eeb907d3b93b6e0e5",
        "_cell_guid": "b1076dfc-b9ad-4769-8c92-a6c4dae69d19",
        "id": "I6yKpUJwLIdi"
      }
    },
    {
      "cell_type": "markdown",
      "source": [
        "<img src=\"https://www.researchgate.net/publication/338379096/figure/fig1/AS:850507329449986@1579788157587/Some-samples-of-dataset-in-YawDD.png\" alt=\"Drivers Image\" width=\"800\" height=\"800\" style=\"display: block; margin: auto;\">"
      ],
      "metadata": {
        "id": "dJLBwaqHLIdk"
      }
    },
    {
      "cell_type": "markdown",
      "source": [
        "# 🔗Importing Libraries"
      ],
      "metadata": {
        "id": "OpyIJmVzLIdk"
      }
    },
    {
      "cell_type": "code",
      "source": [
        "import os\n",
        "import pandas as pd\n",
        "import numpy as np\n",
        "import matplotlib.pyplot as  plt\n",
        "import tensorflow as tf\n",
        "from tensorflow import keras\n",
        "from sklearn.metrics import confusion_matrix\n",
        "from sklearn.metrics import classification_report\n",
        "import seaborn as sns\n",
        "tf.random.set_seed(3)\n",
        "from tensorflow.keras.preprocessing.image import ImageDataGenerator\n",
        "from tensorflow.keras.optimizers import Adam\n",
        "from tensorflow.keras.losses import SparseCategoricalCrossentropy\n",
        "from tensorflow.keras.applications import MobileNetV2\n",
        "from tensorflow.keras.layers import Dense, Flatten\n",
        "from tensorflow.keras.models import Model\n",
        "from tensorflow.keras.optimizers import Adam, SGD\n",
        "from collections import Counter"
      ],
      "metadata": {
        "execution": {
          "iopub.status.busy": "2024-04-03T20:32:09.195041Z",
          "iopub.execute_input": "2024-04-03T20:32:09.195384Z",
          "iopub.status.idle": "2024-04-03T20:32:09.253765Z",
          "shell.execute_reply.started": "2024-04-03T20:32:09.195359Z",
          "shell.execute_reply": "2024-04-03T20:32:09.252736Z"
        },
        "trusted": true,
        "id": "MaTapq30LIdk"
      },
      "outputs": [],
      "execution_count": null
    },
    {
      "cell_type": "markdown",
      "source": [
        "# 🔗Dividing Data into (train,test,val) folders"
      ],
      "metadata": {
        "id": "fXzbysljLIdl"
      }
    },
    {
      "cell_type": "code",
      "source": [
        "!pip install split-folders"
      ],
      "metadata": {
        "execution": {
          "iopub.status.busy": "2024-04-03T17:44:10.715848Z",
          "iopub.execute_input": "2024-04-03T17:44:10.716565Z",
          "iopub.status.idle": "2024-04-03T17:44:24.158341Z",
          "shell.execute_reply.started": "2024-04-03T17:44:10.716539Z",
          "shell.execute_reply": "2024-04-03T17:44:24.157343Z"
        },
        "trusted": true,
        "id": "_3YFH8GBLIdl"
      },
      "outputs": [],
      "execution_count": null
    },
    {
      "cell_type": "code",
      "source": [
        "import splitfolders\n",
        "\n",
        "data_dir = '/kaggle/input/driver-drowsiness-dataset-ddd/Driver Drowsiness Dataset (DDD)'\n",
        "output_dir = '/kaggle/working/splitted_Data'\n",
        "splitfolders.ratio(data_dir, output=output_dir, seed=1337, ratio=(.8, 0.15, 0.05))\n"
      ],
      "metadata": {
        "execution": {
          "iopub.status.busy": "2024-04-03T17:44:24.160283Z",
          "iopub.execute_input": "2024-04-03T17:44:24.160586Z",
          "iopub.status.idle": "2024-04-03T17:47:55.968216Z",
          "shell.execute_reply.started": "2024-04-03T17:44:24.160555Z",
          "shell.execute_reply": "2024-04-03T17:47:55.967207Z"
        },
        "trusted": true,
        "id": "6UnzC-w2LIdl"
      },
      "outputs": [],
      "execution_count": null
    },
    {
      "cell_type": "markdown",
      "source": [
        "# 🔗Reading Data (train,test,val)"
      ],
      "metadata": {
        "id": "KXp2Aqm2LIdm"
      }
    },
    {
      "cell_type": "markdown",
      "source": [
        "### 🔖🔖Define the directories for train, test, and validation data"
      ],
      "metadata": {
        "id": "nAgsDuu_LIdm"
      }
    },
    {
      "cell_type": "code",
      "source": [
        "train_dir = \"/kaggle/working/splitted_Data/train\"\n",
        "test_dir = \"/kaggle/working/splitted_Data/test\"\n",
        "val_dir = \"/kaggle/working/splitted_Data/val\""
      ],
      "metadata": {
        "execution": {
          "iopub.status.busy": "2024-04-03T19:10:33.050986Z",
          "iopub.execute_input": "2024-04-03T19:10:33.0519Z",
          "iopub.status.idle": "2024-04-03T19:10:33.055942Z",
          "shell.execute_reply.started": "2024-04-03T19:10:33.051847Z",
          "shell.execute_reply": "2024-04-03T19:10:33.055093Z"
        },
        "trusted": true,
        "id": "qIJapSETLIdm"
      },
      "outputs": [],
      "execution_count": null
    },
    {
      "cell_type": "markdown",
      "source": [
        "### 🔖🔖Create ImageDataGenerator instances for train, test, and validation data"
      ],
      "metadata": {
        "id": "iDpFsh7vLIdm"
      }
    },
    {
      "cell_type": "code",
      "source": [
        "train_datagen = ImageDataGenerator(rescale=1./255)\n",
        "test_datagen = ImageDataGenerator(rescale=1./255)\n",
        "val_datagen = ImageDataGenerator(rescale=1./255)"
      ],
      "metadata": {
        "execution": {
          "iopub.status.busy": "2024-04-03T19:10:36.165908Z",
          "iopub.execute_input": "2024-04-03T19:10:36.166288Z",
          "iopub.status.idle": "2024-04-03T19:10:36.170934Z",
          "shell.execute_reply.started": "2024-04-03T19:10:36.166259Z",
          "shell.execute_reply": "2024-04-03T19:10:36.170034Z"
        },
        "trusted": true,
        "id": "ZEq0FfQPLIdn"
      },
      "outputs": [],
      "execution_count": null
    },
    {
      "cell_type": "markdown",
      "source": [
        "### 🔖🔖Flow images from directories"
      ],
      "metadata": {
        "id": "1L8KKEjPLIdn"
      }
    },
    {
      "cell_type": "markdown",
      "source": [
        "##### 🔖For Train"
      ],
      "metadata": {
        "id": "VpKDFf-YLIdn"
      }
    },
    {
      "cell_type": "code",
      "source": [
        "train_batches = train_datagen.flow_from_directory(\n",
        "    train_dir,\n",
        "    target_size=(224, 224),\n",
        "    batch_size=16,\n",
        "    class_mode='binary',\n",
        "    shuffle=True\n",
        ")"
      ],
      "metadata": {
        "execution": {
          "iopub.status.busy": "2024-04-03T19:10:39.350478Z",
          "iopub.execute_input": "2024-04-03T19:10:39.35085Z",
          "iopub.status.idle": "2024-04-03T19:10:40.229106Z",
          "shell.execute_reply.started": "2024-04-03T19:10:39.350823Z",
          "shell.execute_reply": "2024-04-03T19:10:40.228093Z"
        },
        "trusted": true,
        "id": "60XRurFSLIdn"
      },
      "outputs": [],
      "execution_count": null
    },
    {
      "cell_type": "markdown",
      "source": [
        "##### 🔖For Test"
      ],
      "metadata": {
        "id": "ZfA0gZsnLIdo"
      }
    },
    {
      "cell_type": "code",
      "source": [
        "test_batches = test_datagen.flow_from_directory(\n",
        "    test_dir,\n",
        "    target_size=(224, 224),\n",
        "    batch_size=16,\n",
        "    class_mode='binary' ,\n",
        "    shuffle=True\n",
        ")"
      ],
      "metadata": {
        "execution": {
          "iopub.status.busy": "2024-04-03T19:10:41.453355Z",
          "iopub.execute_input": "2024-04-03T19:10:41.453754Z",
          "iopub.status.idle": "2024-04-03T19:10:41.519441Z",
          "shell.execute_reply.started": "2024-04-03T19:10:41.453715Z",
          "shell.execute_reply": "2024-04-03T19:10:41.518712Z"
        },
        "trusted": true,
        "id": "3WkZvQJMLIdo"
      },
      "outputs": [],
      "execution_count": null
    },
    {
      "cell_type": "markdown",
      "source": [
        "##### 🔖For Validation"
      ],
      "metadata": {
        "id": "RubEintALIdo"
      }
    },
    {
      "cell_type": "code",
      "source": [
        "val_batches = val_datagen.flow_from_directory(\n",
        "    val_dir,\n",
        "    target_size=(224, 224),\n",
        "    batch_size=16,\n",
        "    class_mode='binary',\n",
        "    shuffle=True\n",
        ")"
      ],
      "metadata": {
        "execution": {
          "iopub.status.busy": "2024-04-03T19:10:42.903222Z",
          "iopub.execute_input": "2024-04-03T19:10:42.903861Z",
          "iopub.status.idle": "2024-04-03T19:10:43.079578Z",
          "shell.execute_reply.started": "2024-04-03T19:10:42.903827Z",
          "shell.execute_reply": "2024-04-03T19:10:43.078872Z"
        },
        "trusted": true,
        "id": "Qvhhsp1mLIdo"
      },
      "outputs": [],
      "execution_count": null
    },
    {
      "cell_type": "markdown",
      "source": [
        "# 🔗Verify a few things(preprocessing )."
      ],
      "metadata": {
        "id": "rsYXKA1_LIdo"
      }
    },
    {
      "cell_type": "markdown",
      "source": [
        "### 🔖🔖check lables ,classes names ,Count occurrences of each class label"
      ],
      "metadata": {
        "id": "FodE2Pg2LIdo"
      }
    },
    {
      "cell_type": "code",
      "source": [
        "train_class_indices = train_batches.class_indices\n",
        "test_class_indices = test_batches.class_indices\n",
        "val_class_indices = val_batches.class_indices\n",
        "\n",
        "train_class_labels = train_batches.classes\n",
        "test_class_labels = test_batches.classes\n",
        "val_class_labels = val_batches.classes\n",
        "\n",
        "\n",
        "train_class_counts = Counter(train_class_labels)\n",
        "test_class_counts = Counter(test_class_labels)\n",
        "val_class_counts = Counter(val_class_labels)\n",
        "\n",
        "print(\"Class Names for train:\\n\", train_class_indices)\n",
        "print(\"Class Counts for train:\\n\", train_class_counts)\n",
        "print(end='\\n')\n",
        "\n",
        "print(\"Class Names for test:\\n\", test_class_indices)\n",
        "print(\"Class Counts for test:\\n\", test_class_counts)\n",
        "print(end='\\n')\n",
        "\n",
        "print(\"Class Names for validation :\\n\", val_class_indices)\n",
        "print(\"Class Counts for validation:\\n\", val_class_counts)\n"
      ],
      "metadata": {
        "execution": {
          "iopub.status.busy": "2024-04-03T19:47:19.73167Z",
          "iopub.execute_input": "2024-04-03T19:47:19.732062Z",
          "iopub.status.idle": "2024-04-03T19:47:19.750259Z",
          "shell.execute_reply.started": "2024-04-03T19:47:19.732035Z",
          "shell.execute_reply": "2024-04-03T19:47:19.749332Z"
        },
        "trusted": true,
        "id": "t4T36ToPLIdp"
      },
      "outputs": [],
      "execution_count": null
    },
    {
      "cell_type": "markdown",
      "source": [
        "### 🔖🔖check Normalization"
      ],
      "metadata": {
        "id": "Wxo7zOxaLIdp"
      }
    },
    {
      "cell_type": "code",
      "source": [
        "images, labels = next(train_batches)\n",
        "print(f\"Pixels of the first image after Normalization: \\n\\n{images[0]}\") #print pixels of the first img\n",
        "plt.imshow(images[0])\n",
        "plt.show()"
      ],
      "metadata": {
        "execution": {
          "iopub.status.busy": "2024-04-03T19:47:59.130852Z",
          "iopub.execute_input": "2024-04-03T19:47:59.131224Z",
          "iopub.status.idle": "2024-04-03T19:47:59.539433Z",
          "shell.execute_reply.started": "2024-04-03T19:47:59.131196Z",
          "shell.execute_reply": "2024-04-03T19:47:59.538436Z"
        },
        "trusted": true,
        "id": "v3ZoEYKRLIdp"
      },
      "outputs": [],
      "execution_count": null
    },
    {
      "cell_type": "markdown",
      "source": [
        "### 🔖🔖check channels (RGB),imgs' shapes"
      ],
      "metadata": {
        "execution": {
          "iopub.status.busy": "2024-04-03T19:47:34.068372Z",
          "iopub.execute_input": "2024-04-03T19:47:34.06931Z",
          "iopub.status.idle": "2024-04-03T19:47:34.073207Z",
          "shell.execute_reply.started": "2024-04-03T19:47:34.069276Z",
          "shell.execute_reply": "2024-04-03T19:47:34.072258Z"
        },
        "id": "mYEhxQKKLIdp"
      }
    },
    {
      "cell_type": "code",
      "source": [
        "print(f\"there are { images[0].ndim} Channels \")\n",
        "print(f\"image shape : {images[0].shape}\")"
      ],
      "metadata": {
        "execution": {
          "iopub.status.busy": "2024-04-03T19:48:06.387759Z",
          "iopub.execute_input": "2024-04-03T19:48:06.38846Z",
          "iopub.status.idle": "2024-04-03T19:48:06.393232Z",
          "shell.execute_reply.started": "2024-04-03T19:48:06.388425Z",
          "shell.execute_reply": "2024-04-03T19:48:06.392293Z"
        },
        "trusted": true,
        "id": "i2DLPVzMLIdp"
      },
      "outputs": [],
      "execution_count": null
    },
    {
      "cell_type": "markdown",
      "source": [
        "# 🔗Display the first 45 training images"
      ],
      "metadata": {
        "execution": {
          "iopub.status.busy": "2024-04-03T19:48:07.647212Z",
          "iopub.execute_input": "2024-04-03T19:48:07.648312Z",
          "iopub.status.idle": "2024-04-03T19:48:07.652165Z",
          "shell.execute_reply.started": "2024-04-03T19:48:07.648277Z",
          "shell.execute_reply": "2024-04-03T19:48:07.651165Z"
        },
        "id": "iyoZfkQXLIdp"
      }
    },
    {
      "cell_type": "markdown",
      "source": [
        "### 🔖🔖check shuffling"
      ],
      "metadata": {
        "id": "P3Asf6FKLIdq"
      }
    },
    {
      "cell_type": "code",
      "source": [
        "fig, axes = plt.subplots(8, 4, figsize=(15, 30))\n",
        "class_indices = train_batches.class_indices\n",
        "\n",
        "for i in range(8):\n",
        "    images, labels = next(train_batches)\n",
        "    for j in range(4):\n",
        "\n",
        "        ax = axes[i, j]\n",
        "        ax.imshow(images[j])\n",
        "        ax.axis('off')\n",
        "        label = int(labels[j])\n",
        "        label_name = list(class_indices.keys())[list(class_indices.values()).index(label)]\n",
        "        ax.set_title(f'{label_name} ({label})')\n",
        "\n",
        "plt.tight_layout()\n",
        "plt.show()\n"
      ],
      "metadata": {
        "execution": {
          "iopub.status.busy": "2024-04-03T19:48:22.813675Z",
          "iopub.execute_input": "2024-04-03T19:48:22.814085Z",
          "iopub.status.idle": "2024-04-03T19:48:28.968441Z",
          "shell.execute_reply.started": "2024-04-03T19:48:22.814055Z",
          "shell.execute_reply": "2024-04-03T19:48:28.966785Z"
        },
        "trusted": true,
        "id": "mfw0E_2ALIdq"
      },
      "outputs": [],
      "execution_count": null
    },
    {
      "cell_type": "markdown",
      "source": [
        "# 🔗Modeling time"
      ],
      "metadata": {
        "id": "TTPLvZ_aLIdq"
      }
    },
    {
      "cell_type": "markdown",
      "source": [
        "### 🔖🔖Load MobileNetV2 model"
      ],
      "metadata": {
        "id": "hbwsAy4hLIdq"
      }
    },
    {
      "cell_type": "code",
      "source": [
        "base_model = MobileNetV2(\n",
        "    weights='imagenet',\n",
        "    include_top=False,\n",
        "    input_shape=(image_size[0], image_size[1], 3),\n",
        ")\n"
      ],
      "metadata": {
        "execution": {
          "iopub.status.busy": "2024-04-03T20:04:54.652733Z",
          "iopub.execute_input": "2024-04-03T20:04:54.653138Z",
          "iopub.status.idle": "2024-04-03T20:04:55.70183Z",
          "shell.execute_reply.started": "2024-04-03T20:04:54.653107Z",
          "shell.execute_reply": "2024-04-03T20:04:55.701005Z"
        },
        "trusted": true,
        "id": "Wxc3JC0cLIdq"
      },
      "outputs": [],
      "execution_count": null
    },
    {
      "cell_type": "code",
      "source": [
        "type(base_model)"
      ],
      "metadata": {
        "execution": {
          "iopub.status.busy": "2024-04-03T20:04:58.721657Z",
          "iopub.execute_input": "2024-04-03T20:04:58.722592Z",
          "iopub.status.idle": "2024-04-03T20:04:58.728663Z",
          "shell.execute_reply.started": "2024-04-03T20:04:58.722557Z",
          "shell.execute_reply": "2024-04-03T20:04:58.727726Z"
        },
        "trusted": true,
        "id": "2KcqLfj5LIdq"
      },
      "outputs": [],
      "execution_count": null
    },
    {
      "cell_type": "markdown",
      "source": [
        "### 🔖🔖Getting Summary of VGG16 model"
      ],
      "metadata": {
        "id": "YMbOOa_TLIdq"
      }
    },
    {
      "cell_type": "code",
      "source": [
        "base_model.summary()"
      ],
      "metadata": {
        "execution": {
          "iopub.status.busy": "2024-04-03T20:05:02.744713Z",
          "iopub.execute_input": "2024-04-03T20:05:02.745216Z",
          "iopub.status.idle": "2024-04-03T20:05:02.953548Z",
          "shell.execute_reply.started": "2024-04-03T20:05:02.745171Z",
          "shell.execute_reply": "2024-04-03T20:05:02.952576Z"
        },
        "trusted": true,
        "id": "YCArOqJTLIdr"
      },
      "outputs": [],
      "execution_count": null
    },
    {
      "cell_type": "markdown",
      "source": [
        "### 🔖🔖Build a new Sequential model"
      ],
      "metadata": {
        "id": "06qOX0BiLIdr"
      }
    },
    {
      "cell_type": "code",
      "source": [
        "model=keras.Sequential() #empty"
      ],
      "metadata": {
        "execution": {
          "iopub.status.busy": "2024-04-03T20:05:12.719217Z",
          "iopub.execute_input": "2024-04-03T20:05:12.720088Z",
          "iopub.status.idle": "2024-04-03T20:05:12.726576Z",
          "shell.execute_reply.started": "2024-04-03T20:05:12.720048Z",
          "shell.execute_reply": "2024-04-03T20:05:12.725471Z"
        },
        "trusted": true,
        "id": "gop86qV4LIdr"
      },
      "outputs": [],
      "execution_count": null
    },
    {
      "cell_type": "markdown",
      "source": [
        "### 🔖🔖Freeze layers"
      ],
      "metadata": {
        "id": "BuJpbcQZLIdr"
      }
    },
    {
      "cell_type": "code",
      "source": [
        "for layer in base_model.layers[:-25] :\n",
        "    layer.trainable = False"
      ],
      "metadata": {
        "execution": {
          "iopub.status.busy": "2024-04-03T20:05:27.176888Z",
          "iopub.execute_input": "2024-04-03T20:05:27.177593Z",
          "iopub.status.idle": "2024-04-03T20:05:27.184776Z",
          "shell.execute_reply.started": "2024-04-03T20:05:27.177563Z",
          "shell.execute_reply": "2024-04-03T20:05:27.183859Z"
        },
        "trusted": true,
        "id": "0iRoA3lOLIdv"
      },
      "outputs": [],
      "execution_count": null
    },
    {
      "cell_type": "markdown",
      "source": [
        "### 🔖🔖 Define the architecture of the neural the new model"
      ],
      "metadata": {
        "id": "BdDExKrvLIdv"
      }
    },
    {
      "cell_type": "code",
      "source": [
        "x = base_model.output\n",
        "x = Flatten()(x)\n",
        "x = Dense(1024, activation='relu')(x)\n",
        "x = Dense(512, activation='relu')(x)\n",
        "predictions = Dense(2, activation='softmax')(x)"
      ],
      "metadata": {
        "execution": {
          "iopub.status.busy": "2024-04-03T20:05:48.957283Z",
          "iopub.execute_input": "2024-04-03T20:05:48.957653Z",
          "iopub.status.idle": "2024-04-03T20:05:48.988895Z",
          "shell.execute_reply.started": "2024-04-03T20:05:48.957624Z",
          "shell.execute_reply": "2024-04-03T20:05:48.988045Z"
        },
        "trusted": true,
        "id": "OXMITJxFLIdv"
      },
      "outputs": [],
      "execution_count": null
    },
    {
      "cell_type": "code",
      "source": [
        "model = Model(inputs=base_model.input, outputs=predictions)"
      ],
      "metadata": {
        "execution": {
          "iopub.status.busy": "2024-04-03T20:05:52.111452Z",
          "iopub.execute_input": "2024-04-03T20:05:52.111853Z",
          "iopub.status.idle": "2024-04-03T20:05:52.137924Z",
          "shell.execute_reply.started": "2024-04-03T20:05:52.111823Z",
          "shell.execute_reply": "2024-04-03T20:05:52.136852Z"
        },
        "trusted": true,
        "id": "qWq4FitYLIdw"
      },
      "outputs": [],
      "execution_count": null
    },
    {
      "cell_type": "markdown",
      "source": [
        "### 🔖🔖Summary of the model"
      ],
      "metadata": {
        "id": "ipfDRmYXLIdw"
      }
    },
    {
      "cell_type": "code",
      "source": [
        "model.summary()"
      ],
      "metadata": {
        "execution": {
          "iopub.status.busy": "2024-04-03T20:06:05.720787Z",
          "iopub.execute_input": "2024-04-03T20:06:05.721422Z",
          "iopub.status.idle": "2024-04-03T20:06:05.929452Z",
          "shell.execute_reply.started": "2024-04-03T20:06:05.72139Z",
          "shell.execute_reply": "2024-04-03T20:06:05.928592Z"
        },
        "trusted": true,
        "id": "tDQA7hV2LIdw"
      },
      "outputs": [],
      "execution_count": null
    },
    {
      "cell_type": "markdown",
      "source": [
        "### 🔖🔖Compile the model"
      ],
      "metadata": {
        "id": "c-4_pMyiLIdw"
      }
    },
    {
      "cell_type": "code",
      "source": [
        "model.compile(optimizer=Adam(0.0001 ), loss='sparse_categorical_crossentropy', metrics=['accuracy'])"
      ],
      "metadata": {
        "execution": {
          "iopub.status.busy": "2024-04-03T20:06:18.663161Z",
          "iopub.execute_input": "2024-04-03T20:06:18.663503Z",
          "iopub.status.idle": "2024-04-03T20:06:18.676731Z",
          "shell.execute_reply.started": "2024-04-03T20:06:18.663479Z",
          "shell.execute_reply": "2024-04-03T20:06:18.675808Z"
        },
        "trusted": true,
        "id": "h7qvXBr9LIdw"
      },
      "outputs": [],
      "execution_count": null
    },
    {
      "cell_type": "markdown",
      "source": [
        "### 🔖🔖Train the model"
      ],
      "metadata": {
        "id": "0x1IkV5fLIdw"
      }
    },
    {
      "cell_type": "code",
      "source": [
        "history = model.fit(\n",
        "   train_batches,\n",
        "    epochs=10,\n",
        "    validation_data=val_batches,\n",
        "    batch_size=32\n",
        ")"
      ],
      "metadata": {
        "execution": {
          "iopub.status.busy": "2024-04-03T20:06:22.649205Z",
          "iopub.execute_input": "2024-04-03T20:06:22.649616Z",
          "iopub.status.idle": "2024-04-03T20:28:31.815017Z",
          "shell.execute_reply.started": "2024-04-03T20:06:22.649586Z",
          "shell.execute_reply": "2024-04-03T20:28:31.814162Z"
        },
        "trusted": true,
        "id": "IDhoVcooLIdx"
      },
      "outputs": [],
      "execution_count": null
    },
    {
      "cell_type": "code",
      "source": [
        "tf.keras.utils.plot_model(model, show_shapes=True)"
      ],
      "metadata": {
        "execution": {
          "iopub.status.busy": "2024-04-03T20:36:02.995769Z",
          "iopub.execute_input": "2024-04-03T20:36:02.996731Z",
          "iopub.status.idle": "2024-04-03T20:36:04.626781Z",
          "shell.execute_reply.started": "2024-04-03T20:36:02.996674Z",
          "shell.execute_reply": "2024-04-03T20:36:04.625758Z"
        },
        "trusted": true,
        "id": "-SDvHslnLIdx"
      },
      "outputs": [],
      "execution_count": null
    },
    {
      "cell_type": "markdown",
      "source": [
        "# 🔗Evaluation time"
      ],
      "metadata": {
        "id": "GK3elC4vLIdx"
      }
    },
    {
      "cell_type": "markdown",
      "source": [
        "### 🔖🔖Evaluate the model's performance on the test training batches."
      ],
      "metadata": {
        "id": "Doqui8JhLIdx"
      }
    },
    {
      "cell_type": "code",
      "source": [
        "loss, accuracy = model.evaluate(train_batches)\n",
        "\n",
        "print(f\"Training Loss: {loss:.4f}\")\n",
        "print(f\"Training Accuracy: {accuracy*100:.2f}%\")"
      ],
      "metadata": {
        "execution": {
          "iopub.status.busy": "2024-04-03T20:28:49.277115Z",
          "iopub.execute_input": "2024-04-03T20:28:49.277506Z",
          "iopub.status.idle": "2024-04-03T20:30:36.773238Z",
          "shell.execute_reply.started": "2024-04-03T20:28:49.277476Z",
          "shell.execute_reply": "2024-04-03T20:30:36.772222Z"
        },
        "trusted": true,
        "id": "RBFOQB-qLIdx"
      },
      "outputs": [],
      "execution_count": null
    },
    {
      "cell_type": "markdown",
      "source": [
        "### 🔖🔖Evaluate the model's performance on the test data batches."
      ],
      "metadata": {
        "id": "s1QicqvqLIdx"
      }
    },
    {
      "cell_type": "code",
      "source": [
        "loss, accuracy = model.evaluate(test_batches)\n",
        "\n",
        "print(f\"Test Loss: {loss:.4f}\")\n",
        "print(f\"Test Accuracy: {accuracy*100:.2f}%\")"
      ],
      "metadata": {
        "execution": {
          "iopub.status.busy": "2024-04-03T20:30:55.171206Z",
          "iopub.execute_input": "2024-04-03T20:30:55.172002Z",
          "iopub.status.idle": "2024-04-03T20:31:04.075172Z",
          "shell.execute_reply.started": "2024-04-03T20:30:55.171971Z",
          "shell.execute_reply": "2024-04-03T20:31:04.07432Z"
        },
        "trusted": true,
        "id": "2ZlWbN03LIdy"
      },
      "outputs": [],
      "execution_count": null
    },
    {
      "cell_type": "markdown",
      "source": [
        "### 🔖🔖Predict test_batches"
      ],
      "metadata": {
        "id": "Fcw05V64LIdy"
      }
    },
    {
      "cell_type": "code",
      "source": [
        "y_pred = model.predict(test_batches)\n",
        "\n",
        "y_pred_labels = np.argmax(y_pred, axis=1)"
      ],
      "metadata": {
        "execution": {
          "iopub.status.busy": "2024-04-03T20:31:19.857875Z",
          "iopub.execute_input": "2024-04-03T20:31:19.858707Z",
          "iopub.status.idle": "2024-04-03T20:31:32.290518Z",
          "shell.execute_reply.started": "2024-04-03T20:31:19.858661Z",
          "shell.execute_reply": "2024-04-03T20:31:32.289327Z"
        },
        "trusted": true,
        "id": "Ys20ujnvLIdy"
      },
      "outputs": [],
      "execution_count": null
    },
    {
      "cell_type": "markdown",
      "source": [
        "### 🔖🔖Get the actual labels from test_batches"
      ],
      "metadata": {
        "id": "0a4QhuvtLIdy"
      }
    },
    {
      "cell_type": "code",
      "source": [
        "y_actual = test_batches.labels"
      ],
      "metadata": {
        "execution": {
          "iopub.status.busy": "2024-04-03T20:31:35.512966Z",
          "iopub.execute_input": "2024-04-03T20:31:35.51376Z",
          "iopub.status.idle": "2024-04-03T20:31:35.517879Z",
          "shell.execute_reply.started": "2024-04-03T20:31:35.513729Z",
          "shell.execute_reply": "2024-04-03T20:31:35.516945Z"
        },
        "trusted": true,
        "id": "N5a8a5cLLIdy"
      },
      "outputs": [],
      "execution_count": null
    },
    {
      "cell_type": "markdown",
      "source": [
        "### 🔖🔖Compute the confusion matrix"
      ],
      "metadata": {
        "id": "70lV_VS8LIdy"
      }
    },
    {
      "cell_type": "code",
      "source": [
        "conf_matrix = confusion_matrix(y_actual, y_pred_labels)\n",
        "\n",
        "print(conf_matrix)"
      ],
      "metadata": {
        "execution": {
          "iopub.status.busy": "2024-04-03T20:33:20.819489Z",
          "iopub.execute_input": "2024-04-03T20:33:20.819883Z",
          "iopub.status.idle": "2024-04-03T20:33:20.827157Z",
          "shell.execute_reply.started": "2024-04-03T20:33:20.819855Z",
          "shell.execute_reply": "2024-04-03T20:33:20.82629Z"
        },
        "trusted": true,
        "id": "NNxkA8hKLIdz"
      },
      "outputs": [],
      "execution_count": null
    },
    {
      "cell_type": "markdown",
      "source": [
        "### 🔖🔖Plot the confusion matrix"
      ],
      "metadata": {
        "id": "F5g7fraHLIdz"
      }
    },
    {
      "cell_type": "code",
      "source": [
        "plt.figure(figsize=(8, 6))\n",
        "sns.heatmap(conf_matrix, annot=True, fmt='d', cmap='bone',\n",
        "            xticklabels=['Class 0', 'Class 1'],\n",
        "            yticklabels=['Class 0', 'Class 1'])\n",
        "plt.xlabel('Predicted')\n",
        "plt.ylabel('Actual')\n",
        "plt.title('Confusion Matrix')\n",
        "plt.show()"
      ],
      "metadata": {
        "execution": {
          "iopub.status.busy": "2024-04-03T20:33:25.050567Z",
          "iopub.execute_input": "2024-04-03T20:33:25.05118Z",
          "iopub.status.idle": "2024-04-03T20:33:25.33782Z",
          "shell.execute_reply.started": "2024-04-03T20:33:25.051149Z",
          "shell.execute_reply": "2024-04-03T20:33:25.336859Z"
        },
        "trusted": true,
        "id": "jDddprJrLIdz"
      },
      "outputs": [],
      "execution_count": null
    },
    {
      "cell_type": "markdown",
      "source": [
        "### 🔖🔖Generate the classification report"
      ],
      "metadata": {
        "id": "JSheZWKKLIdz"
      }
    },
    {
      "cell_type": "code",
      "source": [
        "report = classification_report(y_actual, y_pred_labels)\n",
        "print(report)"
      ],
      "metadata": {
        "execution": {
          "iopub.status.busy": "2024-04-03T20:33:30.422329Z",
          "iopub.execute_input": "2024-04-03T20:33:30.422673Z",
          "iopub.status.idle": "2024-04-03T20:33:30.438243Z",
          "shell.execute_reply.started": "2024-04-03T20:33:30.422648Z",
          "shell.execute_reply": "2024-04-03T20:33:30.437197Z"
        },
        "trusted": true,
        "id": "p_1EzzdtLIdz"
      },
      "outputs": [],
      "execution_count": null
    },
    {
      "cell_type": "markdown",
      "source": [
        "### Wish U luck 💗\n",
        "##### Esraa Meslam"
      ],
      "metadata": {
        "id": "oMfx_gRnLId0"
      }
    }
  ]
}